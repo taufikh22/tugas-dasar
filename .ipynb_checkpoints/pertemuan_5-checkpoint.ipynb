{
 "cells": [
  {
   "cell_type": "code",
   "execution_count": 3,
   "id": "8ac21c70",
   "metadata": {},
   "outputs": [
    {
     "name": "stdout",
     "output_type": "stream",
     "text": [
      "masukan nama : taufik hidayat\n",
      "masukan kelas : ti22f\n",
      "masukan nim : 20220040122\n",
      "masukan jurusan : teknik informatika\n",
      "Hello, nama saya  taufik hidayat, saya dari kelas  ti22f, nim  20220040122, jurusan saya teknik informatika \n"
     ]
    }
   ],
   "source": [
    "nama = input(\"masukan nama : \")\n",
    "kelas = input(\"masukan kelas : \")\n",
    "nim  = input(\"masukan nim : \")\n",
    "jurusan  = input(\"masukan jurusan : \")\n",
    "\n",
    "print(\"Hello, nama saya  %s, saya dari kelas  %s, nim  %s, jurusan saya %s \" % (nama, kelas, nim, jurusan))"
   ]
  },
  {
   "cell_type": "code",
   "execution_count": 5,
   "id": "3fad31cd",
   "metadata": {},
   "outputs": [
    {
     "name": "stdout",
     "output_type": "stream",
     "text": [
      " OPTION A : putra nusa\n",
      " OPTION B : NIVERSITAS NSA PTRA  SUKABUMI\n",
      " OPTION C : SUKABUMI PUTRA NUSA UNIVERSITAS\n",
      " OPTION D : UNPS\n",
      " OPTION E : TAS SAPU BUMI\n"
     ]
    }
   ],
   "source": [
    "judul = \"UNIVERSITAS NUSA PUTRA SUKABUMI\"\n",
    "\n",
    "a = judul[17:22].lower()+' '+judul[12:16].lower()\n",
    "b = judul[1:11]+' '+judul[12]+judul[14:16]+' '+judul[17]+judul[19:22]+' '+judul[22:31].upper()\n",
    "c = judul[23:31]+' '+judul[17:22]+' '+judul[12:16]+' '+judul[0:11].upper()\n",
    "d = judul[0]+judul[12]+judul[17]+judul[23].upper()\n",
    "e = judul[8:11]+' '+judul[14:16]+judul[17:19]+' '+judul[27:31].upper()\n",
    "\n",
    "print(\" OPTION A :\", a)\n",
    "print(\" OPTION B :\", b)\n",
    "print(\" OPTION C :\", c)\n",
    "print(\" OPTION D :\", d)\n",
    "print(\" OPTION E :\", e)\n",
    "\n"
   ]
  },
  {
   "cell_type": "code",
   "execution_count": null,
   "id": "a1ab7d74",
   "metadata": {},
   "outputs": [],
   "source": []
  }
 ],
 "metadata": {
  "kernelspec": {
   "display_name": "Python 3 (ipykernel)",
   "language": "python",
   "name": "python3"
  },
  "language_info": {
   "codemirror_mode": {
    "name": "ipython",
    "version": 3
   },
   "file_extension": ".py",
   "mimetype": "text/x-python",
   "name": "python",
   "nbconvert_exporter": "python",
   "pygments_lexer": "ipython3",
   "version": "3.9.12"
  }
 },
 "nbformat": 4,
 "nbformat_minor": 5
}
