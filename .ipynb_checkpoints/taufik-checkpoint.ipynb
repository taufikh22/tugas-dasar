{
 "cells": [
  {
   "cell_type": "code",
   "execution_count": 1,
   "id": "5a06c077",
   "metadata": {},
   "outputs": [
    {
     "name": "stdout",
     "output_type": "stream",
     "text": [
      "No.1 TYPE DATA\n"
     ]
    }
   ],
   "source": [
    "print (\"No.1 TYPE DATA\")"
   ]
  },
  {
   "cell_type": "code",
   "execution_count": 2,
   "id": "899bad51",
   "metadata": {},
   "outputs": [],
   "source": [
    "integer = 245"
   ]
  },
  {
   "cell_type": "code",
   "execution_count": 3,
   "id": "4eb571ff",
   "metadata": {},
   "outputs": [],
   "source": [
    "string = \"taufik\""
   ]
  },
  {
   "cell_type": "code",
   "execution_count": 4,
   "id": "370d0784",
   "metadata": {},
   "outputs": [],
   "source": [
    "flo = 1.5"
   ]
  },
  {
   "cell_type": "code",
   "execution_count": 5,
   "id": "aae01ae8",
   "metadata": {},
   "outputs": [],
   "source": [
    "bol = False"
   ]
  },
  {
   "cell_type": "code",
   "execution_count": null,
   "id": "3a559ff9",
   "metadata": {},
   "outputs": [],
   "source": []
  },
  {
   "cell_type": "code",
   "execution_count": 6,
   "id": "432f1148",
   "metadata": {},
   "outputs": [
    {
     "name": "stdout",
     "output_type": "stream",
     "text": [
      "type datanya adalah <class 'int'>\n"
     ]
    }
   ],
   "source": [
    "print (\"type datanya adalah\", (type(integer)))"
   ]
  },
  {
   "cell_type": "code",
   "execution_count": 7,
   "id": "da61d2a4",
   "metadata": {},
   "outputs": [
    {
     "name": "stdout",
     "output_type": "stream",
     "text": [
      "type datanya adalah <class 'str'>\n"
     ]
    }
   ],
   "source": [
    "print (\"type datanya adalah\", (type(string)))"
   ]
  },
  {
   "cell_type": "code",
   "execution_count": 8,
   "id": "cf55a532",
   "metadata": {},
   "outputs": [
    {
     "name": "stdout",
     "output_type": "stream",
     "text": [
      "type datanya adalah <class 'float'>\n"
     ]
    }
   ],
   "source": [
    "print (\"type datanya adalah\", (type(flo)))"
   ]
  },
  {
   "cell_type": "code",
   "execution_count": 13,
   "id": "fe4be48e",
   "metadata": {},
   "outputs": [
    {
     "name": "stdout",
     "output_type": "stream",
     "text": [
      "type datanya adalah <class 'bool'>\n"
     ]
    }
   ],
   "source": [
    "print (\"type datanya adalah\", (type(bol)))"
   ]
  },
  {
   "cell_type": "code",
   "execution_count": null,
   "id": "ecc95a58",
   "metadata": {},
   "outputs": [],
   "source": []
  },
  {
   "cell_type": "code",
   "execution_count": 14,
   "id": "eb4401d0",
   "metadata": {},
   "outputs": [
    {
     "name": "stdout",
     "output_type": "stream",
     "text": [
      "No.2 Buatlah komentar nama, nim dan no telpon\n"
     ]
    }
   ],
   "source": [
    "print (\"No.2 Buatlah komentar nama, nim dan no telpon\")"
   ]
  },
  {
   "cell_type": "code",
   "execution_count": 15,
   "id": "8fde313b",
   "metadata": {},
   "outputs": [
    {
     "name": "stdout",
     "output_type": "stream",
     "text": [
      "TAUFIK HIDAYAT\n"
     ]
    }
   ],
   "source": [
    "print (\"TAUFIK HIDAYAT\")"
   ]
  },
  {
   "cell_type": "code",
   "execution_count": 17,
   "id": "2e3d03df",
   "metadata": {},
   "outputs": [
    {
     "name": "stdout",
     "output_type": "stream",
     "text": [
      "20220040122\n"
     ]
    }
   ],
   "source": [
    "print (\"20220040122\")"
   ]
  },
  {
   "cell_type": "code",
   "execution_count": 18,
   "id": "0fd1fe05",
   "metadata": {},
   "outputs": [
    {
     "name": "stdout",
     "output_type": "stream",
     "text": [
      "085722687820\n"
     ]
    }
   ],
   "source": [
    "print (\"085722687820\")"
   ]
  },
  {
   "cell_type": "code",
   "execution_count": null,
   "id": "2da1cbc8",
   "metadata": {},
   "outputs": [],
   "source": []
  },
  {
   "cell_type": "code",
   "execution_count": 19,
   "id": "1d368302",
   "metadata": {},
   "outputs": [
    {
     "name": "stdout",
     "output_type": "stream",
     "text": [
      "No.3 perhitugan 3 buah angka\n"
     ]
    }
   ],
   "source": [
    "print (\"No.3 perhitugan 3 buah angka\")"
   ]
  },
  {
   "cell_type": "code",
   "execution_count": 20,
   "id": "3456e886",
   "metadata": {},
   "outputs": [
    {
     "name": "stdout",
     "output_type": "stream",
     "text": [
      "masukan angka pertama :5000\n"
     ]
    }
   ],
   "source": [
    "pertama = float(input(\"masukan angka pertama :\"))"
   ]
  },
  {
   "cell_type": "code",
   "execution_count": 21,
   "id": "a4158959",
   "metadata": {},
   "outputs": [
    {
     "name": "stdout",
     "output_type": "stream",
     "text": [
      "masukan angka kedua :2000\n"
     ]
    }
   ],
   "source": [
    "kedua = float(input(\"masukan angka kedua :\"))"
   ]
  },
  {
   "cell_type": "code",
   "execution_count": 22,
   "id": "180c01a8",
   "metadata": {},
   "outputs": [
    {
     "name": "stdout",
     "output_type": "stream",
     "text": [
      "masukan angka ketiga :500\n"
     ]
    }
   ],
   "source": [
    "ketiga = float(input(\"masukan angka ketiga :\"))"
   ]
  },
  {
   "cell_type": "code",
   "execution_count": 30,
   "id": "ea31b1a7",
   "metadata": {},
   "outputs": [],
   "source": [
    "tambah1 = pertama + 500"
   ]
  },
  {
   "cell_type": "code",
   "execution_count": 31,
   "id": "10dd8290",
   "metadata": {},
   "outputs": [],
   "source": [
    "tambah2 = kedua + 500"
   ]
  },
  {
   "cell_type": "code",
   "execution_count": 32,
   "id": "08beddcb",
   "metadata": {},
   "outputs": [],
   "source": [
    "total = tambah1 + tambah2 - ketiga"
   ]
  },
  {
   "cell_type": "code",
   "execution_count": 33,
   "id": "a539f5b4",
   "metadata": {},
   "outputs": [
    {
     "name": "stdout",
     "output_type": "stream",
     "text": [
      "hasil dari semuanya : 7500.0\n"
     ]
    }
   ],
   "source": [
    "print(\"hasil dari semuanya :\",total)"
   ]
  },
  {
   "cell_type": "code",
   "execution_count": null,
   "id": "d960422e",
   "metadata": {},
   "outputs": [],
   "source": []
  },
  {
   "cell_type": "code",
   "execution_count": 27,
   "id": "24a3c5dd",
   "metadata": {},
   "outputs": [
    {
     "name": "stdout",
     "output_type": "stream",
     "text": [
      "No.4 aplikasi utuk mencari keliling lingkaran dan volume kubus\n"
     ]
    }
   ],
   "source": [
    "print (\"No.4 aplikasi utuk mencari keliling lingkaran dan volume kubus\")"
   ]
  },
  {
   "cell_type": "code",
   "execution_count": 34,
   "id": "8640cca5",
   "metadata": {},
   "outputs": [
    {
     "name": "stdout",
     "output_type": "stream",
     "text": [
      "1. keliling lingkaran\n"
     ]
    }
   ],
   "source": [
    "print(\"1. keliling lingkaran\")"
   ]
  },
  {
   "cell_type": "code",
   "execution_count": 35,
   "id": "bf3613df",
   "metadata": {},
   "outputs": [
    {
     "name": "stdout",
     "output_type": "stream",
     "text": [
      "input R nya :20\n"
     ]
    }
   ],
   "source": [
    "r = float(input(\"input R nya :\"))"
   ]
  },
  {
   "cell_type": "code",
   "execution_count": 36,
   "id": "83722aa2",
   "metadata": {},
   "outputs": [],
   "source": [
    "k = 2*3.14*r"
   ]
  },
  {
   "cell_type": "code",
   "execution_count": 37,
   "id": "6b3ab1fc",
   "metadata": {},
   "outputs": [
    {
     "name": "stdout",
     "output_type": "stream",
     "text": [
      "jadi kelilingnya :  125.60000000000001\n"
     ]
    }
   ],
   "source": [
    "print (\"jadi kelilingnya : \",k )"
   ]
  },
  {
   "cell_type": "code",
   "execution_count": null,
   "id": "e3cfd7cf",
   "metadata": {},
   "outputs": [],
   "source": []
  },
  {
   "cell_type": "code",
   "execution_count": 38,
   "id": "f75c9cdb",
   "metadata": {},
   "outputs": [
    {
     "name": "stdout",
     "output_type": "stream",
     "text": [
      "2. volume kubus\n"
     ]
    }
   ],
   "source": [
    "print (\"2. volume kubus\")"
   ]
  },
  {
   "cell_type": "code",
   "execution_count": 39,
   "id": "0654bb91",
   "metadata": {},
   "outputs": [
    {
     "name": "stdout",
     "output_type": "stream",
     "text": [
      "input s nya :20\n"
     ]
    }
   ],
   "source": [
    "s = float(input(\"input s nya :\"))"
   ]
  },
  {
   "cell_type": "code",
   "execution_count": 40,
   "id": "4dd20909",
   "metadata": {},
   "outputs": [],
   "source": [
    "hitung = s*s*s"
   ]
  },
  {
   "cell_type": "code",
   "execution_count": 42,
   "id": "5c0bafa7",
   "metadata": {},
   "outputs": [
    {
     "name": "stdout",
     "output_type": "stream",
     "text": [
      "jadi volume kubusnya : 8000.0\n"
     ]
    }
   ],
   "source": [
    "print (\"jadi volume kubusnya :\", hitung)"
   ]
  },
  {
   "cell_type": "code",
   "execution_count": null,
   "id": "2f49de21",
   "metadata": {},
   "outputs": [],
   "source": []
  },
  {
   "cell_type": "code",
   "execution_count": null,
   "id": "2ae577e9",
   "metadata": {},
   "outputs": [],
   "source": []
  }
 ],
 "metadata": {
  "kernelspec": {
   "display_name": "Python 3 (ipykernel)",
   "language": "python",
   "name": "python3"
  },
  "language_info": {
   "codemirror_mode": {
    "name": "ipython",
    "version": 3
   },
   "file_extension": ".py",
   "mimetype": "text/x-python",
   "name": "python",
   "nbconvert_exporter": "python",
   "pygments_lexer": "ipython3",
   "version": "3.9.12"
  }
 },
 "nbformat": 4,
 "nbformat_minor": 5
}
