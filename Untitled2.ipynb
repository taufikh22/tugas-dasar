{
 "cells": [
  {
   "cell_type": "code",
   "execution_count": 1,
   "id": "b151dabd",
   "metadata": {},
   "outputs": [
    {
     "name": "stdout",
     "output_type": "stream",
     "text": [
      "Masukan Kalimat :ragu ragu\n",
      "Kalimat sebelum di balik yaitu : ragu ragu\n",
      "Kalimat setelah di balik adalah : ugar ugar\n"
     ]
    }
   ],
   "source": [
    "kalimat = str(input(\"Masukan Kalimat :\"))\n",
    "balik = \"\"\n",
    "\n",
    "for i in range(len(kalimat)-1,-1,-1):\n",
    "    balik +=kalimat[i]\n",
    "print(\"Kalimat sebelum di balik yaitu :\",kalimat)\n",
    "print(\"Kalimat setelah di balik adalah :\",balik) "
   ]
  },
  {
   "cell_type": "code",
   "execution_count": 3,
   "id": "22cbb6f3",
   "metadata": {},
   "outputs": [
    {
     "name": "stdout",
     "output_type": "stream",
     "text": [
      "Kalimatnya yaitu : taufik hidayat\n",
      "Jumlah Huruf A = 3\n",
      "Jumlah Huruf I = 2\n",
      "Jumlah Huruf U = 1\n",
      "Jumlah Huruf E = 0\n",
      "Jumlah Huruf O = 0\n",
      "Total jumlah huruf vokal = 6\n"
     ]
    }
   ],
   "source": [
    "teks = \"taufik hidayat\"\n",
    "huruf_vokal = {'a':0, 'i':0, 'u':0, 'e':0, 'o':0}\n",
    "total = 0\n",
    "for vokal in teks.lower():\n",
    "    if vokal in ['a','i','u','e','o']:\n",
    "        huruf_vokal[vokal] +=1\n",
    "        total +=1\n",
    "print(f\"Kalimatnya yaitu : {teks}\")\n",
    "print(f\"Jumlah Huruf A = {huruf_vokal['a']}\")\n",
    "print(f\"Jumlah Huruf I = {huruf_vokal['i']}\")\n",
    "print(f\"Jumlah Huruf U = {huruf_vokal['u']}\")\n",
    "print(f\"Jumlah Huruf E = {huruf_vokal['e']}\")\n",
    "print(f\"Jumlah Huruf O = {huruf_vokal['o']}\")\n",
    "print(f\"Total jumlah huruf vokal = {total}\")"
   ]
  },
  {
   "cell_type": "code",
   "execution_count": null,
   "id": "863ed20a",
   "metadata": {},
   "outputs": [],
   "source": []
  }
 ],
 "metadata": {
  "kernelspec": {
   "display_name": "Python 3 (ipykernel)",
   "language": "python",
   "name": "python3"
  },
  "language_info": {
   "codemirror_mode": {
    "name": "ipython",
    "version": 3
   },
   "file_extension": ".py",
   "mimetype": "text/x-python",
   "name": "python",
   "nbconvert_exporter": "python",
   "pygments_lexer": "ipython3",
   "version": "3.9.12"
  }
 },
 "nbformat": 4,
 "nbformat_minor": 5
}
