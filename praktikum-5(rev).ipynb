{
 "cells": [
  {
   "cell_type": "code",
   "execution_count": 8,
   "id": "0f87bb53",
   "metadata": {},
   "outputs": [
    {
     "name": "stdout",
     "output_type": "stream",
     "text": [
      "Latihan no.1\n"
     ]
    }
   ],
   "source": [
    "print (\"Latihan no.1\")"
   ]
  },
  {
   "cell_type": "code",
   "execution_count": 2,
   "id": "250152c7",
   "metadata": {},
   "outputs": [
    {
     "name": "stdout",
     "output_type": "stream",
     "text": [
      "Hobi kamu apa? :membaca\n",
      "Hobi kamu membaca\n"
     ]
    }
   ],
   "source": [
    "hobi = input('Hobi kamu apa? :')\n",
    "print(f\"Hobi kamu {hobi}\")"
   ]
  },
  {
   "cell_type": "code",
   "execution_count": 3,
   "id": "de431a0f",
   "metadata": {},
   "outputs": [
    {
     "name": "stdout",
     "output_type": "stream",
     "text": [
      "Siapa nama kamu :Taufik hidayat\n",
      "Nama kamu berawalan huruf T\n"
     ]
    }
   ],
   "source": [
    "nama = input('Siapa nama kamu :')\n",
    "print(f\"Nama kamu berawalan huruf {nama[0]}\")"
   ]
  },
  {
   "cell_type": "code",
   "execution_count": 4,
   "id": "e6002447",
   "metadata": {},
   "outputs": [
    {
     "name": "stdout",
     "output_type": "stream",
     "text": [
      "Latihan no.2\n"
     ]
    }
   ],
   "source": [
    "print (\"Latihan no.2\")"
   ]
  },
  {
   "cell_type": "code",
   "execution_count": 5,
   "id": "585197da",
   "metadata": {},
   "outputs": [
    {
     "name": "stdout",
     "output_type": "stream",
     "text": [
      "Berapakah hasil perkalian 5 dan 4 : 20\n",
      "Jawaban anda True\n"
     ]
    }
   ],
   "source": [
    "from random import randint\n",
    "angka_1 = randint(0,10)\n",
    "angka_2 = randint(0,10)\n",
    "\n",
    "hasil = int(input(f\"Berapakah hasil perkalian {angka_1} dan {angka_2} : \"))\n",
    "print(f\"Jawaban anda {hasil==angka_1 * angka_2}\")"
   ]
  },
  {
   "cell_type": "code",
   "execution_count": 6,
   "id": "abfdcfab",
   "metadata": {},
   "outputs": [
    {
     "name": "stdout",
     "output_type": "stream",
     "text": [
      "latihan no.3\n"
     ]
    }
   ],
   "source": [
    "print (\"latihan no.3\")"
   ]
  },
  {
   "cell_type": "code",
   "execution_count": 11,
   "id": "0f164288",
   "metadata": {},
   "outputs": [
    {
     "name": "stdout",
     "output_type": "stream",
     "text": [
      "😀\n",
      "🙂\n",
      "😉\n",
      "🤐\n",
      "🤣\n"
     ]
    }
   ],
   "source": [
    "print(\"\\N{grinning face}\")\n",
    "print(\"\\N{slightly smiling face}\")\n",
    "print(\"\\N{winking face}\")\n",
    "print(\"\\N{zipper-mouth face}\")\n",
    "print(\"\\N{rolling on the floor laughing}\")"
   ]
  },
  {
   "cell_type": "code",
   "execution_count": 14,
   "id": "7abb67ba",
   "metadata": {},
   "outputs": [
    {
     "name": "stdout",
     "output_type": "stream",
     "text": [
      "Latihan no.4\n"
     ]
    }
   ],
   "source": [
    "print (\"Latihan no.4\")"
   ]
  },
  {
   "cell_type": "code",
   "execution_count": 13,
   "id": "cc772cf8",
   "metadata": {},
   "outputs": [
    {
     "name": "stdout",
     "output_type": "stream",
     "text": [
      "dasar\n",
      "sar \n",
      "pemrograman \n",
      "raman \n",
      "praktikum 5\n",
      "tikum 5\n",
      "dasar pemrograman praktikum 5\n"
     ]
    }
   ],
   "source": [
    "kalimat = 'dasar pemrograman praktikum 5'\n",
    "print(kalimat[0:5])\n",
    "print(kalimat[2:6]) \n",
    "print(kalimat[6:18]) \n",
    "print(kalimat[12:18]) \n",
    "print(kalimat[18:29]) \n",
    "print(kalimat[22:29]) \n",
    "print(kalimat[0:29]) "
   ]
  },
  {
   "cell_type": "code",
   "execution_count": 15,
   "id": "ccf11c87",
   "metadata": {},
   "outputs": [
    {
     "name": "stdout",
     "output_type": "stream",
     "text": [
      "Latihan no.5\n"
     ]
    }
   ],
   "source": [
    "print (\"Latihan no.5\")"
   ]
  },
  {
   "cell_type": "code",
   "execution_count": 16,
   "id": "aa749b3f",
   "metadata": {},
   "outputs": [
    {
     "name": "stdout",
     "output_type": "stream",
     "text": [
      "Masukan Email : taufikhidayat@gmail.com\n",
      "taufikhidayat@gmail.com  ->  True\n"
     ]
    }
   ],
   "source": [
    "email = input('Masukan Email : ')\n",
    "valid_email = '@gmail.com'\n",
    "if valid_email in email:\n",
    "    print(email, ' -> ', True)\n",
    "else:\n",
    "    print(email, ' -> ', False)"
   ]
  }
 ],
 "metadata": {
  "kernelspec": {
   "display_name": "Python 3 (ipykernel)",
   "language": "python",
   "name": "python3"
  },
  "language_info": {
   "codemirror_mode": {
    "name": "ipython",
    "version": 3
   },
   "file_extension": ".py",
   "mimetype": "text/x-python",
   "name": "python",
   "nbconvert_exporter": "python",
   "pygments_lexer": "ipython3",
   "version": "3.9.12"
  }
 },
 "nbformat": 4,
 "nbformat_minor": 5
}
