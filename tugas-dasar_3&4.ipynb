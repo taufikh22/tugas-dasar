{
 "cells": [
  {
   "cell_type": "markdown",
   "metadata": {},
   "source": [
    "<h1>Praktikum Variabel & Tipe Data</h1>\n",
    "\n",
    "<h3>Soal 1</h3>\n",
    "Kiki belanja ke alf$$a M$a$r$t membeli 3 hepitos, 2 silperkuin, telor 2kg, beras 5kg, isi ulang akua galon seharga Rp 13.000. Harga hepitos yaitu Rp 15.000, telor Rp 13.000/kg, silperkuin Rp 21.000 beras kemasan 2.5kg seharga Rp 20.000. Toko tersebut memberikan discount 5%, ketika customer membeli makanan lebih dari 3 jenis. Berapakah total bayar belanjaan dari Kiki?\n"
   ]
  },
  {
   "cell_type": "markdown",
   "metadata": {},
   "source": [
    "<h1>Analyze Here</h1>\n",
    "....."
   ]
  },
  {
   "cell_type": "code",
   "execution_count": 3,
   "metadata": {},
   "outputs": [
    {
     "name": "stdout",
     "output_type": "stream",
     "text": [
      "Totalbelanja =  166000\n",
      "Totaldiskon =  8300.0\n",
      "Total_setelah_diskon =  157700.0\n"
     ]
    }
   ],
   "source": [
    "#Code here\n",
    "a = hepitos = 15000 * 3\n",
    "b = silperkuin = 21000 * 2\n",
    "c = telor = 13000 * 2\n",
    "d = beras = 20000 * 2\n",
    "e = isiulangGalon = 13000\n",
    "\n",
    "Totalharga = a + b + c + d + e\n",
    "diskon = Totalharga * 0.05\n",
    "Total_setelah_diskon = Totalharga - diskon\n",
    "print(\"Totalbelanja = \", Totalharga)\n",
    "print(\"Totaldiskon = \",diskon)\n",
    "print(\"Total_setelah_diskon = \", Total_setelah_diskon)"
   ]
  },
  {
   "cell_type": "markdown",
   "metadata": {},
   "source": [
    "<h3>Soal 2</h3>\n",
    "Roni menabung pada bulan agustus yaitu setiap tanggal ganjil sejumlah Rp 50.000, setiap tanggal genap sejumlah RP 10.000 dan setiap tanggal kelipatan 5 sejumlah Rp 5.000, Berapakah total tabungan Roni diakhir bulan?"
   ]
  },
  {
   "cell_type": "markdown",
   "metadata": {},
   "source": [
    "<h1>Analyze Here</h1>\n",
    "....."
   ]
  },
  {
   "cell_type": "code",
   "execution_count": 4,
   "metadata": {},
   "outputs": [
    {
     "name": "stdout",
     "output_type": "stream",
     "text": [
      "total_tabung:  800000\n"
     ]
    }
   ],
   "source": [
    "#Code here\n",
    "total_hari = 31\n",
    "total_tabung = 0\n",
    "\n",
    "tanggal = 1\n",
    "while(tanggal <= total_hari):\n",
    "    if(tanggal % 5 == 0):\n",
    "     total_tabung += 5000\n",
    "    elif(tanggal % 2 != 0):\n",
    "     total_tabung += 50000\n",
    "    else:\n",
    "     total_tabung += 10000\n",
    "    \n",
    "    tanggal += 1\n",
    "    \n",
    "print(\"total_tabung: \",total_tabung)"
   ]
  },
  {
   "cell_type": "markdown",
   "metadata": {},
   "source": [
    "<h3>Soal 3</h3>\n",
    "Saat hari raya, Deni ingin menukarkan uang sejumlah Rp 5.000.000 ke pecahan 20rb, 10rb, 5rb, 2rb. berapa jumlahnya yang didapatkan Deni jika 20rb maksimal 100, 10rb maksimal 50.Jika :\n",
    "<ol>\n",
    "    <li>3(a)Semua pecahan harus ada</li>\n",
    "    <li>3(b)Hanya pecahan 20rb, 10rb dan 5rb</li>\n",
    "    <li>3(c)Hanya pecahan 20rb, 10rb dan 2rb</li>\n",
    "</ol>"
   ]
  },
  {
   "cell_type": "markdown",
   "metadata": {},
   "source": [
    "<h1>Analyze Here</h1>\n",
    "....."
   ]
  },
  {
   "cell_type": "code",
   "execution_count": 5,
   "metadata": {},
   "outputs": [
    {
     "name": "stdout",
     "output_type": "stream",
     "text": [
      "semua pecahan ada\n",
      "100 lembar 20 rbu =  2000000\n",
      "50 lembar 10 rbu =  500000\n",
      "400 lembar 5 rbu =  2000000\n",
      "250 lembar 2 rbu =  500000\n",
      "totalnya adalah = 5000000\n",
      "hanya pecahan 20rbu, 10rbu dan 5rbu\n",
      "100 lembar 20 rbu = 2000000\n",
      "50 lembar 10 rbu = 500000\n",
      "500 lembar 5 rbu = 2500000\n",
      "totalnya adalah = 5000000\n",
      "hanya pecahan 20rbu, 10rbu dan 2rbu\n",
      "100 lembar 20 rbu = 2000000\n",
      "50 lembar 10 rbu = 500000\n",
      "1250 lembar 2 rbu = 2500000\n",
      "totalnya adalah = 5000000\n"
     ]
    }
   ],
   "source": [
    "#Code here\n",
    "rupiah_20 = 20_000 * 100\n",
    "rupiah_10 = 10_000 * 50\n",
    "rupiah_5 = 5000 * 400\n",
    "rupiah_2 = 2000 * 250\n",
    "jumlah_3_a = rupiah_20 + rupiah_10 + rupiah_5 + rupiah_2\n",
    "\n",
    "print(\"semua pecahan ada\")\n",
    "print(\"100 lembar 20 rbu = \",rupiah_20)\n",
    "print(\"50 lembar 10 rbu = \",rupiah_10)\n",
    "print(\"400 lembar 5 rbu = \",rupiah_5)\n",
    "print(\"250 lembar 2 rbu = \",rupiah_2)\n",
    "print(\"totalnya adalah =\",jumlah_3_a)\n",
    "\n",
    "rupiah_5_2 = 5000 * 500\n",
    "jumlah_3_b = rupiah_20 + rupiah_10 + rupiah_5_2\n",
    "print(\"hanya pecahan 20rbu, 10rbu dan 5rbu\")\n",
    "print(\"100 lembar 20 rbu =\",rupiah_20)\n",
    "print(\"50 lembar 10 rbu =\",rupiah_10)\n",
    "print(\"500 lembar 5 rbu =\",rupiah_5_2)\n",
    "print(\"totalnya adalah =\",jumlah_3_b)\n",
    "\n",
    "rupiah_2_2 = 2000 * 1250\n",
    "jumlah_3_c = rupiah_20 + rupiah_10 + rupiah_2_2\n",
    "print(\"hanya pecahan 20rbu, 10rbu dan 2rbu\")\n",
    "print(\"100 lembar 20 rbu =\",rupiah_20)\n",
    "print(\"50 lembar 10 rbu =\",rupiah_10)\n",
    "print(\"1250 lembar 2 rbu =\",rupiah_2_2)\n",
    "print(\"totalnya adalah =\",jumlah_3_c)"
   ]
  },
  {
   "cell_type": "markdown",
   "metadata": {},
   "source": [
    "<h3>Soal 4</h3>\n",
    "Berapakah hasil dari (10/23-6+4-(20//3%2)) ?\n",
    "Lakukan analisa perhitungan dari hasil tersebut!\n",
    "Berdasarkan hasil tersebut urutkan operator yang dikerjakan!"
   ]
  },
  {
   "cell_type": "markdown",
   "metadata": {},
   "source": [
    "<h1>Analyze Here</h1>\n",
    "....."
   ]
  },
  {
   "cell_type": "code",
   "execution_count": 9,
   "metadata": {},
   "outputs": [
    {
     "name": "stdout",
     "output_type": "stream",
     "text": [
      "hasil dari (10/23-6+4-(20//3%2) = -1.5652173913043477\n",
      "hasil analisa\n",
      "1. terdapat operator bagi dan kurang = 10/23-6 = -5.565217391304348\n",
      "2. terdapat operator pembaian dibulatkan dan sisa bagi = 4 - (20 // 3 % 2) = -5.565217391304348\n",
      "hasil setelah ditambahkan adalah = -1.5652173913043477\n"
     ]
    }
   ],
   "source": [
    "#Code here\n",
    "hasil = (10/23-6+4-(20//3%2))\n",
    "print(\"hasil dari (10/23-6+4-(20//3%2) =\",hasil)\n",
    "print(\"hasil analisa\")\n",
    "\n",
    "operator_bagi_kurang = 10/23-6\n",
    "operator_bagi_sisabagi = 4 - (20 // 3 % 2)\n",
    "print(\"1. terdapat operator bagi dan kurang = 10/23-6 =\",operator_bagi_kurang)\n",
    "print(\"2. terdapat operator pembaian dibulatkan dan sisa bagi = 4 - (20 // 3 % 2) =\",operator_bagi_kurang)\n",
    "print(\"hasil setelah ditambahkan adalah =\",operator_bagi_kurang + operator_bagi_sisabagi)\n"
   ]
  },
  {
   "cell_type": "markdown",
   "metadata": {},
   "source": [
    "<h3>Soal 5</h3>\n",
    "Jika terdapat string yaitu \"UFLOPYXTKJACSWRBGQZVDMEHIN\", maka susunlah nama kalian masing-masing dari data tersebut, berdasarkan index dari masing-masing huruf yang ada pada string tersebut!\n"
   ]
  },
  {
   "cell_type": "markdown",
   "metadata": {},
   "source": [
    "<h1>Analyze Here</h1>\n",
    "....."
   ]
  },
  {
   "cell_type": "code",
   "execution_count": 31,
   "metadata": {},
   "outputs": [
    {
     "name": "stdout",
     "output_type": "stream",
     "text": [
      "TAUFIKHIDAYAT\n"
     ]
    }
   ],
   "source": [
    "huruf = \"UFLOPYXTKJACSWRBGQZVDMEHIN\"\n",
    "\n",
    "print(huruf[7]+huruf[10]+huruf[0]+huruf[1]+huruf[24]+huruf[8]+huruf[23]+huruf[24]+huruf[20]+huruf[10]+huruf[5]+huruf[10]+huruf[7])"
   ]
  },
  {
   "cell_type": "code",
   "execution_count": 32,
   "metadata": {},
   "outputs": [
    {
     "name": "stdout",
     "output_type": "stream",
     "text": [
      "tugas taufik hidayat\n",
      "dasar pemrograman\n"
     ]
    }
   ],
   "source": [
    "print(\"tugas taufik hidayat\")\n",
    "print(\"dasar pemrograman\")"
   ]
  },
  {
   "cell_type": "code",
   "execution_count": null,
   "metadata": {},
   "outputs": [],
   "source": []
  }
 ],
 "metadata": {
  "kernelspec": {
   "display_name": "Python 3 (ipykernel)",
   "language": "python",
   "name": "python3"
  },
  "language_info": {
   "codemirror_mode": {
    "name": "ipython",
    "version": 3
   },
   "file_extension": ".py",
   "mimetype": "text/x-python",
   "name": "python",
   "nbconvert_exporter": "python",
   "pygments_lexer": "ipython3",
   "version": "3.9.12"
  }
 },
 "nbformat": 4,
 "nbformat_minor": 4
}
